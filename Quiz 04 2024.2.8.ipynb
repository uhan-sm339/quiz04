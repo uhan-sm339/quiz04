{
 "cells": [
  {
   "cell_type": "markdown",
   "id": "20542d24-4dd5-43b7-9f4e-938c51a70d81",
   "metadata": {
    "deletable": false,
    "editable": false,
    "slideshow": {
     "slide_type": ""
    },
    "tags": []
   },
   "source": [
    "**SM339 &#x25aa; Applied Statistics &#x25aa; Spring 2024 &#x25aa; Uhan**"
   ]
  },
  {
   "cell_type": "markdown",
   "id": "3a72792a-aec3-4065-9d56-88ed28df2598",
   "metadata": {
    "deletable": false,
    "editable": false,
    "slideshow": {
     "slide_type": ""
    },
    "tags": []
   },
   "source": [
    "# Quiz 4 &mdash; 2/8/2024"
   ]
  },
  {
   "cell_type": "markdown",
   "id": "206840bf-d41c-4ce1-a0de-4051888970d5",
   "metadata": {
    "deletable": false,
    "editable": false,
    "slideshow": {
     "slide_type": ""
    },
    "tags": []
   },
   "source": [
    "## Instructions\n",
    "\n",
    "This take-home quiz is due on __Thursday, February 8 at 23:59__.\n",
    "\n",
    "You may use your own course materials, as well as any materials directly linked from the course website. __No collaboration allowed.__\n",
    "\n",
    "Type your answers __directly in this Jupyter notebook__, and submit this notebook (just the `ipynb` file) using the submission form on the [course website](https://courses.uhan.me/sm339/)."
   ]
  },
  {
   "attachments": {},
   "cell_type": "markdown",
   "id": "1cb71e80-3b9e-4bc1-9f16-b9c1a785d156",
   "metadata": {
    "deletable": false,
    "editable": false,
    "slideshow": {
     "slide_type": ""
    },
    "tags": []
   },
   "source": [
    "## Problem 1\n",
    "\n",
    "The data frame `RailsTrails` in the `Stat2Data` package contains data from a sample of 104 homes that were sold in 2007 in the city of Northampton, Massachusetts.\n",
    "\n",
    "For this quiz, we want to see if a home's proximity to a biking trail is related to its selling price.\n",
    "Perhaps, for example, proximity to the trail could add value to the home.\n",
    "\n",
    "Here, we focus on the estimated 2007 price of a home, in thousands of dollars. These values are in the variable $\\mathit{Price2007}$.\n",
    "The variable $\\mathit{Distance}$ measures the distance in miles to the nearest entry point to the trail network."
   ]
  },
  {
   "cell_type": "markdown",
   "id": "b5abfffe-9e76-42d0-bb6b-b10fb32ac45e",
   "metadata": {
    "deletable": false,
    "editable": false,
    "slideshow": {
     "slide_type": ""
    },
    "tags": []
   },
   "source": [
    "### a.\n",
    "Load the data frame `RailsTrails` from the `Stat2Data` package. Display the first few rows."
   ]
  },
  {
   "cell_type": "code",
   "execution_count": null,
   "id": "38dcd8c6-3981-4f10-ae73-bfaaf29b30ff",
   "metadata": {
    "editable": true,
    "slideshow": {
     "slide_type": ""
    },
    "tags": []
   },
   "outputs": [],
   "source": []
  },
  {
   "cell_type": "markdown",
   "id": "ff475d22-766a-4aae-b92e-49b1965260df",
   "metadata": {
    "deletable": false,
    "editable": false,
    "slideshow": {
     "slide_type": ""
    },
    "tags": []
   },
   "source": [
    "### b.\n",
    "\n",
    "Use R to fit a simple linear regression model that predicts the estimated 2007 price of a home based on its distance to the nearest entry point to the the trail network.\n",
    "\n",
    "Provide __only__ the summary output for this part."
   ]
  },
  {
   "cell_type": "code",
   "execution_count": null,
   "id": "5950fc02-b982-4528-81f6-238cee28bb7c",
   "metadata": {
    "editable": true,
    "slideshow": {
     "slide_type": ""
    },
    "tags": []
   },
   "outputs": [],
   "source": []
  },
  {
   "cell_type": "markdown",
   "id": "466e7025-1a7c-4e8d-aca5-44d9f9029093",
   "metadata": {
    "deletable": false,
    "editable": false,
    "slideshow": {
     "slide_type": ""
    },
    "tags": []
   },
   "source": [
    "### c.\n",
    "\n",
    "Interpret the value of the slope of the fitted model, in the context of this setting."
   ]
  },
  {
   "cell_type": "markdown",
   "id": "240f29b2-15ea-4ee5-9fbe-2774b855c6f7",
   "metadata": {
    "editable": true,
    "slideshow": {
     "slide_type": ""
    },
    "tags": []
   },
   "source": [
    "*Write your answer here. Double-click to edit.*"
   ]
  },
  {
   "cell_type": "markdown",
   "id": "d9fb33f9-0a4e-49a1-ab2a-4bdf49990607",
   "metadata": {
    "deletable": false,
    "editable": false,
    "slideshow": {
     "slide_type": ""
    },
    "tags": []
   },
   "source": [
    "### d.\n",
    "\n",
    "What estimated 2007 price does the fitted model predict for a house that is 1.5 miles from the nearest entry point to the trail network?\n",
    "__Report your answer in dollars.__\n",
    "\n",
    "Use the code cell below as a calculator to show your work."
   ]
  },
  {
   "cell_type": "code",
   "execution_count": null,
   "id": "6f459cee-feda-4e5e-a69a-99a4b629fdb4",
   "metadata": {
    "editable": true,
    "slideshow": {
     "slide_type": ""
    },
    "tags": []
   },
   "outputs": [],
   "source": []
  },
  {
   "cell_type": "markdown",
   "id": "775814b6-0686-44b4-9f21-4844b3ae88f2",
   "metadata": {
    "deletable": false,
    "editable": false,
    "slideshow": {
     "slide_type": ""
    },
    "tags": []
   },
   "source": [
    "### e.\n",
    "\n",
    "The first house in the dataset, at 406 Acrebrook Drive, has an estimated 2007 price of \\\\$203,500, and is 2.4 miles from the nearest entry point to the trail network. Find the residual for this observation. __Report your answer in dollars__.\n",
    "\n",
    "Use the code cell below as a calculator to show your work."
   ]
  },
  {
   "cell_type": "code",
   "execution_count": null,
   "id": "96bd5f99-5e34-4db3-94ab-407e674ffacb",
   "metadata": {
    "editable": true,
    "slideshow": {
     "slide_type": ""
    },
    "tags": []
   },
   "outputs": [],
   "source": []
  },
  {
   "cell_type": "markdown",
   "id": "729d3032-4f3d-4dde-a0db-5f278d2b3699",
   "metadata": {
    "deletable": false,
    "editable": false,
    "slideshow": {
     "slide_type": ""
    },
    "tags": []
   },
   "source": [
    "### f.\n",
    "\n",
    "Make a residual vs. fitted values plot."
   ]
  },
  {
   "cell_type": "code",
   "execution_count": null,
   "id": "a92fbe5a-6be5-4eb3-9dad-b06af9c8b19f",
   "metadata": {
    "editable": true,
    "slideshow": {
     "slide_type": ""
    },
    "tags": []
   },
   "outputs": [],
   "source": []
  },
  {
   "cell_type": "markdown",
   "id": "a3fcb87c-2c65-46c9-8167-3aa5bef2cab5",
   "metadata": {
    "deletable": false,
    "editable": false,
    "slideshow": {
     "slide_type": ""
    },
    "tags": []
   },
   "source": [
    "### g.\n",
    "\n",
    "Based on your residual vs. fitted values plot in part f, does the model satisfy the equal variance condition? Briefly explain. \n",
    "\n",
    "Your explanation should be in complete sentences, with correct spelling and grammar."
   ]
  },
  {
   "cell_type": "markdown",
   "id": "d2dbde60-3720-42d6-8604-a8674e08ea0f",
   "metadata": {
    "editable": true,
    "slideshow": {
     "slide_type": ""
    },
    "tags": []
   },
   "source": [
    "*Write your answer here. Double-click to edit.*"
   ]
  },
  {
   "cell_type": "markdown",
   "id": "faed2b40-3707-449e-8a20-1d52a2d43ce3",
   "metadata": {
    "deletable": false,
    "editable": false,
    "slideshow": {
     "slide_type": ""
    },
    "tags": []
   },
   "source": [
    "### h.\n",
    "\n",
    "Based on your residual vs. fitted values plot in part f, does the model satisfy the linearity condition? Briefly explain.\n",
    "\n",
    "Your explanation should be in complete sentences, with correct spelling and grammar."
   ]
  },
  {
   "cell_type": "markdown",
   "id": "6dd5cd13-38b2-4ec9-bcf6-ec718ecc7612",
   "metadata": {
    "editable": true,
    "slideshow": {
     "slide_type": ""
    },
    "tags": []
   },
   "source": [
    "*Write your answer here. Double-click to edit.*"
   ]
  },
  {
   "cell_type": "markdown",
   "id": "4160f75f-aa04-454f-9d59-fd8c9811004b",
   "metadata": {
    "deletable": false,
    "editable": false,
    "slideshow": {
     "slide_type": ""
    },
    "tags": []
   },
   "source": [
    "## Grading rubric\n",
    "    \n",
    "| Problem | Weight |\n",
    "| :-: | :-: |\n",
    "| 1a | 1 |\n",
    "| 1b | 1 |\n",
    "| 1c | 1 | \n",
    "| 1d | 1 | \n",
    "| 1e | 1 | \n",
    "| 1f | 1 | \n",
    "| 1g | 1 |\n",
    "| 1h | 1 | \n",
    "| __Max Score__ | __80__ | "
   ]
  }
 ],
 "metadata": {
  "kernelspec": {
   "display_name": "R",
   "language": "R",
   "name": "ir"
  },
  "language_info": {
   "codemirror_mode": "r",
   "file_extension": ".r",
   "mimetype": "text/x-r-source",
   "name": "R",
   "pygments_lexer": "r",
   "version": "4.2.2"
  }
 },
 "nbformat": 4,
 "nbformat_minor": 5
}
